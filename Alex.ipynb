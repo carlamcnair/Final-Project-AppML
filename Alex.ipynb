{
 "cells": [
  {
   "cell_type": "markdown",
   "id": "6d506ae4",
   "metadata": {},
   "source": [
    "# Final project"
   ]
  },
  {
   "cell_type": "markdown",
   "id": "eece14ab",
   "metadata": {},
   "source": [
    "## Kode "
   ]
  },
  {
   "cell_type": "markdown",
   "id": "5ba46e35",
   "metadata": {},
   "source": [
    "## Noter "
   ]
  },
  {
   "cell_type": "markdown",
   "id": "f6b6e0c5",
   "metadata": {},
   "source": [
    "Alexander Sokol\n",
    "\n",
    "Finansielle auto encoders\n",
    "\n",
    "Tips (så kan man lave en multidimensionel auto encoder)\n",
    "\n",
    "Use the data from 1985"
   ]
  }
 ],
 "metadata": {
  "language_info": {
   "name": "python"
  }
 },
 "nbformat": 4,
 "nbformat_minor": 5
}

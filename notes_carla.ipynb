{
 "cells": [
  {
   "cell_type": "markdown",
   "id": "01048646",
   "metadata": {},
   "source": [
    "https://www.federalreserve.gov/pubs/feds/2006/200628/200628pap.pdf"
   ]
  }
 ],
 "metadata": {
  "language_info": {
   "name": "python"
  }
 },
 "nbformat": 4,
 "nbformat_minor": 5
}
